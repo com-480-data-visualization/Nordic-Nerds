{
 "cells": [
  {
   "cell_type": "code",
   "execution_count": 5,
   "metadata": {},
   "outputs": [],
   "source": [
    "import pandas as pd\n",
    "from pathlib import Path\n",
    "import json\n",
    "\n",
    "DATA_DIR = Path(\"transfers\")"
   ]
  },
  {
   "cell_type": "code",
   "execution_count": 6,
   "metadata": {},
   "outputs": [],
   "source": [
    "LEAGUES = [\"1-bundesliga\", \"championship\", \"eredivisie\", \"liga-nos\", \"ligue-1\", \"premier-league\", \"premier-liga\", \"primera-division\", \"serie-a\", ]\n",
    "\n",
    "dataframes = [pd.read_csv(DATA_DIR.joinpath(f\"{league}.csv\")) for league in LEAGUES]\n",
    "transfers_df = pd.concat(dataframes)\n",
    "\n"
   ]
  },
  {
   "cell_type": "code",
   "execution_count": 7,
   "metadata": {},
   "outputs": [
    {
     "data": {
      "text/plain": [
       "Index(['club_name', 'player_name', 'age', 'position', 'club_involved_name',\n",
       "       'fee', 'transfer_movement', 'transfer_period', 'fee_cleaned',\n",
       "       'league_name', 'year', 'season'],\n",
       "      dtype='object')"
      ]
     },
     "execution_count": 7,
     "metadata": {},
     "output_type": "execute_result"
    }
   ],
   "source": [
    "transfers_df.columns"
   ]
  },
  {
   "cell_type": "code",
   "execution_count": 13,
   "metadata": {},
   "outputs": [],
   "source": [
    "PLAYERS = [\"Lionel Messi\", \"Cristiano Ronaldo\", \"Erling Haaland\", \"Zlatan Ibrahimovic\", \"Luis Suárez\"]\n",
    "COLUMNS = [ \"club_name\", \"age\", \"position\", \"transfer_period\", \"fee_cleaned\", \"league_name\", \"year\", \"season\"]\n",
    "players_dict = dict()\n",
    "for player in PLAYERS:\n",
    "    df = transfers_df[(transfers_df.player_name == player) & (transfers_df.transfer_movement == \"in\")][COLUMNS].sort_values(by='season').fillna(value = 0)\n",
    "    metadata = {'start': 0, 'end': 0}\n",
    "    data_dict = {'data': df.to_dict(orient='records', ), 'metadata': metadata}\n",
    "    # player_dict = {f\"{player}\" : data_dict }\n",
    "    players_dict[player] = data_dict\n",
    "json_string = json.dumps(players_dict)\n",
    "with open(f'transfers/transfers.json', 'w') as f:\n",
    "    f.write(json_string)\n"
   ]
  },
  {
   "cell_type": "code",
   "execution_count": 9,
   "metadata": {},
   "outputs": [],
   "source": [
    "ronaldo = transfers_df[transfers_df.player_name == \"Cristiano Ronaldo\"].sort_values(by='season')\n",
    "ronaldo.to_csv('ronaldo.csv')"
   ]
  },
  {
   "cell_type": "code",
   "execution_count": 26,
   "metadata": {},
   "outputs": [],
   "source": [
    "zlatan = transfers_df[transfers_df.player_name == \"Zlatan Ibrahimovic\"].sort_values(by='season')\n",
    "zlatan.to_csv('zlatan.csv')"
   ]
  },
  {
   "cell_type": "code",
   "execution_count": 27,
   "metadata": {},
   "outputs": [],
   "source": [
    "haaland = transfers_df[transfers_df.player_name == \"Erling Haaland\"].sort_values(by='season')\n",
    "haaland.to_csv('haaland.csv')"
   ]
  },
  {
   "cell_type": "code",
   "execution_count": 28,
   "metadata": {},
   "outputs": [],
   "source": [
    "suarez = transfers_df[transfers_df.player_name == \"Luis Suárez\"].sort_values(by='season')\n",
    "suarez.to_csv('suarez.csv')"
   ]
  }
 ],
 "metadata": {
  "kernelspec": {
   "display_name": "Python 3",
   "language": "python",
   "name": "python3"
  },
  "language_info": {
   "codemirror_mode": {
    "name": "ipython",
    "version": 3
   },
   "file_extension": ".py",
   "mimetype": "text/x-python",
   "name": "python",
   "nbconvert_exporter": "python",
   "pygments_lexer": "ipython3",
   "version": "3.12.2"
  }
 },
 "nbformat": 4,
 "nbformat_minor": 2
}
